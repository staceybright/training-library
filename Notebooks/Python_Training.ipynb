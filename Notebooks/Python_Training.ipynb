{
 "metadata": {
  "name": ""
 },
 "nbformat": 3,
 "nbformat_minor": 0,
 "worksheets": [
  {
   "cells": [
    {
     "cell_type": "markdown",
     "metadata": {},
     "source": [
      "# 1.3 Built-in Datatypes\n",
      "### Page 3"
     ]
    },
    {
     "cell_type": "code",
     "collapsed": false,
     "input": [
      "#%logstart"
     ],
     "language": "python",
     "metadata": {},
     "outputs": [
      {
       "output_type": "stream",
       "stream": "stdout",
       "text": [
        "Activating auto-logging. Current session state plus future input saved.\n",
        "Filename       : ipython_log.py\n",
        "Mode           : rotate\n",
        "Output logging : False\n",
        "Raw input log  : False\n",
        "Timestamping   : False\n",
        "State          : active\n"
       ]
      }
     ],
     "prompt_number": 1
    },
    {
     "cell_type": "code",
     "collapsed": false,
     "input": [
      "a = 2.0\n",
      "b = 3\n",
      "a * b"
     ],
     "language": "python",
     "metadata": {},
     "outputs": [
      {
       "metadata": {},
       "output_type": "pyout",
       "prompt_number": 2,
       "text": [
        "6.0"
       ]
      }
     ],
     "prompt_number": 2
    },
    {
     "cell_type": "markdown",
     "metadata": {},
     "source": [
      "* File:"
     ]
    },
    {
     "cell_type": "code",
     "collapsed": false,
     "input": [
      "infile = open('./PythonTraining.pdf')\n",
      "infile.name\n",
      "infile.readline()\n",
      "infile.close()"
     ],
     "language": "python",
     "metadata": {},
     "outputs": [],
     "prompt_number": 3
    },
    {
     "cell_type": "markdown",
     "metadata": {},
     "source": [
      "### Page 4"
     ]
    },
    {
     "cell_type": "markdown",
     "metadata": {},
     "source": [
      "* Integer:"
     ]
    },
    {
     "cell_type": "code",
     "collapsed": false,
     "input": [
      "a = 1\n",
      "a==1\n",
      "a.denominator"
     ],
     "language": "python",
     "metadata": {},
     "outputs": [
      {
       "metadata": {},
       "output_type": "pyout",
       "prompt_number": 4,
       "text": [
        "1"
       ]
      }
     ],
     "prompt_number": 4
    },
    {
     "cell_type": "markdown",
     "metadata": {},
     "source": [
      "* Float:"
     ]
    },
    {
     "cell_type": "code",
     "collapsed": false,
     "input": [
      "a = 2.0"
     ],
     "language": "python",
     "metadata": {},
     "outputs": [],
     "prompt_number": 5
    },
    {
     "cell_type": "markdown",
     "metadata": {},
     "source": [
      "* String:"
     ]
    },
    {
     "cell_type": "code",
     "collapsed": false,
     "input": [
      "a = 'three'\n",
      "infile = 'infile.fits'\n",
      "outfile = infile.replace('.fits', '_DidWork.fits')\n",
      "'Outfile: ', outfile"
     ],
     "language": "python",
     "metadata": {},
     "outputs": [
      {
       "metadata": {},
       "output_type": "pyout",
       "prompt_number": 6,
       "text": [
        "('Outfile: ', 'infile_DidWork.fits')"
       ]
      }
     ],
     "prompt_number": 6
    },
    {
     "cell_type": "markdown",
     "metadata": {},
     "source": [
      "* Tuple: An immutable list (members cannot be changed over time); elements can be of any data type."
     ]
    },
    {
     "cell_type": "code",
     "collapsed": false,
     "input": [
      "# We can assign different data types...\n",
      "a = (1, 2, 3)\n",
      "b = (1, 2.0, 'three')\n",
      "print a\n",
      "\n",
      "print a+b\n",
      "\n",
      "#... but we cannot change the individual members at will\n",
      "a[1] = 'two'\n",
      "\n"
     ],
     "language": "python",
     "metadata": {},
     "outputs": [
      {
       "ename": "TypeError",
       "evalue": "'tuple' object does not support item assignment",
       "output_type": "pyerr",
       "traceback": [
        "\u001b[0;31m---------------------------------------------------------------------------\u001b[0m\n\u001b[0;31mTypeError\u001b[0m                                 Traceback (most recent call last)",
        "\u001b[0;32m<ipython-input-7-4d9976913e5c>\u001b[0m in \u001b[0;36m<module>\u001b[0;34m()\u001b[0m\n\u001b[1;32m      7\u001b[0m \u001b[0;34m\u001b[0m\u001b[0m\n\u001b[1;32m      8\u001b[0m \u001b[0;31m#... but we cannot change the individual members at will\u001b[0m\u001b[0;34m\u001b[0m\u001b[0;34m\u001b[0m\u001b[0m\n\u001b[0;32m----> 9\u001b[0;31m \u001b[0ma\u001b[0m\u001b[0;34m[\u001b[0m\u001b[0;36m1\u001b[0m\u001b[0;34m]\u001b[0m \u001b[0;34m=\u001b[0m \u001b[0;34m'two'\u001b[0m\u001b[0;34m\u001b[0m\u001b[0m\n\u001b[0m\u001b[1;32m     10\u001b[0m \u001b[0;34m\u001b[0m\u001b[0m\n",
        "\u001b[0;31mTypeError\u001b[0m: 'tuple' object does not support item assignment"
       ]
      },
      {
       "output_type": "stream",
       "stream": "stdout",
       "text": [
        "(1, 2, 3)\n",
        "(1, 2, 3, 1, 2.0, 'three')\n"
       ]
      }
     ],
     "prompt_number": 7
    },
    {
     "cell_type": "markdown",
     "metadata": {},
     "source": [
      "* Lists: A mutable list, can be of any data type (think of it as a tuple where you can change the individual members)"
     ]
    },
    {
     "cell_type": "code",
     "collapsed": false,
     "input": [
      "# Just like a tuple, we can assign different data types...\n",
      "a = [1, 2, 3]\n",
      "b = [1, 2.0, 'three']\n",
      "\n",
      "#... with the added bonus of being able to change individual members at will\n",
      "b[1] = 'two'\n",
      "print 'List b: ', b\n",
      "print\n",
      "\n",
      "# You can create empty lists...\n",
      "mylist = []\n",
      "\n",
      "# and append to them...\n",
      "mylist.append(3)\n",
      "print 'mylist: ', mylist\n",
      "print\n",
      "\n",
      "# as well as find the length, or number of elements in a list...\n",
      "mylist = [1, 2, 3, 4]\n",
      "print 'Length of mylist:', len(mylist)\n",
      "print\n",
      "\n",
      "# and also \"add\" the lists. Note: \"Add\" in this case appends the content of one last to the other\n",
      "yourlist = [5, 6, 7, 8, 9]\n",
      "print 'mylist + yourlist: ',  mylist + yourlist\n",
      "print\n",
      "\n",
      "# You can also append one list to another, resulting in a nested list...\n",
      "mylist.append(yourlist)\n",
      "print 'mylist + yourlist:', mylist"
     ],
     "language": "python",
     "metadata": {},
     "outputs": []
    },
    {
     "cell_type": "markdown",
     "metadata": {},
     "source": [
      "* Dictionary: A mapping which stores objects by a 'key' and not position. Below we show an example of a dictionary, and a dictionary of dictionaries. We could also create a dictionary of lists:"
     ]
    },
    {
     "cell_type": "code",
     "collapsed": false,
     "input": [
      "# A simple dictionary\n",
      "a = {1:'one', 2:'two', 3:'three'}\n",
      "\n",
      "# An empty dictionary\n",
      "galaxy_dict = {}\n",
      "print 'Empty dictionary:'\n",
      "print galaxy_dict\n",
      "print\n",
      "\n",
      "# Now let's populate galaxy_dict...\n",
      "galaxy_dict['M31'] = {'RA':'00 42 44.33', 'DEC':'+41 16 07.5','Vmag':3.44,'nickname':'Andromeda'}\n",
      "print 'Dictionary with one entry:'\n",
      "print galaxy_dict\n",
      "\n",
      "# Let's add another entry...\n",
      "galaxy_dict['M104'] = {'RA':'12 39 59.43185', 'DEC':'-11 37 22.9954','Vmag':3.44,'nickname':'Sombrero'}\n",
      "print\n",
      "\n",
      "# and check to see what keys are in galaxy_dict:\n",
      "print 'Keys in galaxy_dict:'\n",
      "print galaxy_dict.keys()\n",
      "print\n",
      "\n",
      "# Ok, what are the keys associated with M31?\n",
      "print \"Keys in galaxy_dict['M31']: \"\n",
      "print galaxy_dict['M31'].keys()\n",
      "print\n",
      "\n",
      "# Right, so now what is the Vmag of M31 in our galaxy_dict?\n",
      "print \"M31 Vmag: \", galaxy_dict['M31']['Vmag']"
     ],
     "language": "python",
     "metadata": {},
     "outputs": [
      {
       "output_type": "stream",
       "stream": "stdout",
       "text": [
        "Empty dictionary:\n",
        "{}\n",
        "\n",
        "Dictionary with one entry:\n",
        "{'M31': {'DEC': '+41 16 07.5', 'nickname': 'Andromeda', 'RA': '00 42 44.33', 'Vmag': 3.44}}\n",
        "\n",
        "Keys in galaxy_dict:\n",
        "['M104', 'M31']\n",
        "\n",
        "Keys in galaxy_dict['M31']: \n",
        "['DEC', 'nickname', 'RA', 'Vmag']\n",
        "\n",
        "M31 Vmag:  3.44\n"
       ]
      }
     ],
     "prompt_number": 8
    },
    {
     "cell_type": "markdown",
     "metadata": {},
     "source": [
      "# 1.5 Double Underscore (Dunder)\n",
      "### Page 6"
     ]
    },
    {
     "cell_type": "markdown",
     "metadata": {},
     "source": [
      "For this section, we ***really*** need to stress that it is not a good idea to modify these in any way."
     ]
    },
    {
     "cell_type": "markdown",
     "metadata": {},
     "source": [
      "### 1.6.1 print function"
     ]
    },
    {
     "cell_type": "code",
     "collapsed": false,
     "input": [
      "# Print and assigend variable\n",
      "a = 3\n",
      "print 'A = ', a\n",
      "print\n",
      "\n",
      "# You can also perform math operations in the print output...\n",
      "b = 2\n",
      "print 'A + B = ', a + b\n",
      "print 'A / B = ', a / b\n",
      "print\n",
      "\n",
      "# Notice the different between integer and floating point division...\n",
      "b = 2.\n",
      "print 'A / B = ', a / b\n",
      "print\n",
      "\n",
      "# The print statement is also great for formatted output\n",
      "c = 'hi'\n",
      "print c + ' there'\n",
      "print\n",
      "print 'I brought home {} flowers for ${} and all she said was {}.'.format(a, b+0.5, c)\n",
      "\n",
      "# We rather the price read $2.50, so...\n",
      "print 'I brought home {} flowers for ${:.2f} and all she said was {}.'.format(a, b+0.5, c)\n"
     ],
     "language": "python",
     "metadata": {},
     "outputs": [
      {
       "output_type": "stream",
       "stream": "stdout",
       "text": [
        "A =  3\n",
        "\n",
        "A + B =  5\n",
        "A / B =  1\n",
        "\n",
        "A / B =  1.5\n",
        "\n",
        "hi there\n",
        "\n",
        "I brought home 3 flowers for $2.5 and all she said was hi.\n",
        "I brought home 3 flowers for $2.50 and all she said was hi.\n"
       ]
      }
     ],
     "prompt_number": 9
    },
    {
     "cell_type": "markdown",
     "metadata": {},
     "source": [
      "### 1.6.2 help() function"
     ]
    },
    {
     "cell_type": "code",
     "collapsed": false,
     "input": [
      "# The help() function gives the user information on many aspects of the current Python session\n",
      "a = 3\n",
      "help(a)"
     ],
     "language": "python",
     "metadata": {},
     "outputs": [
      {
       "output_type": "stream",
       "stream": "stdout",
       "text": [
        "Help on int object:\n",
        "\n",
        "class int(object)\n",
        " |  int(x[, base]) -> integer\n",
        " |  \n",
        " |  Convert a string or number to an integer, if possible.  A floating point\n",
        " |  argument will be truncated towards zero (this does not include a string\n",
        " |  representation of a floating point number!)  When converting a string, use\n",
        " |  the optional base.  It is an error to supply a base when converting a\n",
        " |  non-string.  If base is zero, the proper base is guessed based on the\n",
        " |  string content.  If the argument is outside the integer range a\n",
        " |  long object will be returned instead.\n",
        " |  \n",
        " |  Methods defined here:\n",
        " |  \n",
        " |  __abs__(...)\n",
        " |      x.__abs__() <==> abs(x)\n",
        " |  \n",
        " |  __add__(...)\n",
        " |      x.__add__(y) <==> x+y\n",
        " |  \n",
        " |  __and__(...)\n",
        " |      x.__and__(y) <==> x&y\n",
        " |  \n",
        " |  __cmp__(...)\n",
        " |      x.__cmp__(y) <==> cmp(x,y)\n",
        " |  \n",
        " |  __coerce__(...)\n",
        " |      x.__coerce__(y) <==> coerce(x, y)\n",
        " |  \n",
        " |  __div__(...)\n",
        " |      x.__div__(y) <==> x/y\n",
        " |  \n",
        " |  __divmod__(...)\n",
        " |      x.__divmod__(y) <==> divmod(x, y)\n",
        " |  \n",
        " |  __float__(...)\n",
        " |      x.__float__() <==> float(x)\n",
        " |  \n",
        " |  __floordiv__(...)\n",
        " |      x.__floordiv__(y) <==> x//y\n",
        " |  \n",
        " |  __format__(...)\n",
        " |  \n",
        " |  __getattribute__(...)\n",
        " |      x.__getattribute__('name') <==> x.name\n",
        " |  \n",
        " |  __getnewargs__(...)\n",
        " |  \n",
        " |  __hash__(...)\n",
        " |      x.__hash__() <==> hash(x)\n",
        " |  \n",
        " |  __hex__(...)\n",
        " |      x.__hex__() <==> hex(x)\n",
        " |  \n",
        " |  __index__(...)\n",
        " |      x[y:z] <==> x[y.__index__():z.__index__()]\n",
        " |  \n",
        " |  __int__(...)\n",
        " |      x.__int__() <==> int(x)\n",
        " |  \n",
        " |  __invert__(...)\n",
        " |      x.__invert__() <==> ~x\n",
        " |  \n",
        " |  __long__(...)\n",
        " |      x.__long__() <==> long(x)\n",
        " |  \n",
        " |  __lshift__(...)\n",
        " |      x.__lshift__(y) <==> x<<y\n",
        " |  \n",
        " |  __mod__(...)\n",
        " |      x.__mod__(y) <==> x%y\n",
        " |  \n",
        " |  __mul__(...)\n",
        " |      x.__mul__(y) <==> x*y\n",
        " |  \n",
        " |  __neg__(...)\n",
        " |      x.__neg__() <==> -x\n",
        " |  \n",
        " |  __nonzero__(...)\n",
        " |      x.__nonzero__() <==> x != 0\n",
        " |  \n",
        " |  __oct__(...)\n",
        " |      x.__oct__() <==> oct(x)\n",
        " |  \n",
        " |  __or__(...)\n",
        " |      x.__or__(y) <==> x|y\n",
        " |  \n",
        " |  __pos__(...)\n",
        " |      x.__pos__() <==> +x\n",
        " |  \n",
        " |  __pow__(...)\n",
        " |      x.__pow__(y[, z]) <==> pow(x, y[, z])\n",
        " |  \n",
        " |  __radd__(...)\n",
        " |      x.__radd__(y) <==> y+x\n",
        " |  \n",
        " |  __rand__(...)\n",
        " |      x.__rand__(y) <==> y&x\n",
        " |  \n",
        " |  __rdiv__(...)\n",
        " |      x.__rdiv__(y) <==> y/x\n",
        " |  \n",
        " |  __rdivmod__(...)\n",
        " |      x.__rdivmod__(y) <==> divmod(y, x)\n",
        " |  \n",
        " |  __repr__(...)\n",
        " |      x.__repr__() <==> repr(x)\n",
        " |  \n",
        " |  __rfloordiv__(...)\n",
        " |      x.__rfloordiv__(y) <==> y//x\n",
        " |  \n",
        " |  __rlshift__(...)\n",
        " |      x.__rlshift__(y) <==> y<<x\n",
        " |  \n",
        " |  __rmod__(...)\n",
        " |      x.__rmod__(y) <==> y%x\n",
        " |  \n",
        " |  __rmul__(...)\n",
        " |      x.__rmul__(y) <==> y*x\n",
        " |  \n",
        " |  __ror__(...)\n",
        " |      x.__ror__(y) <==> y|x\n",
        " |  \n",
        " |  __rpow__(...)\n",
        " |      y.__rpow__(x[, z]) <==> pow(x, y[, z])\n",
        " |  \n",
        " |  __rrshift__(...)\n",
        " |      x.__rrshift__(y) <==> y>>x\n",
        " |  \n",
        " |  __rshift__(...)\n",
        " |      x.__rshift__(y) <==> x>>y\n",
        " |  \n",
        " |  __rsub__(...)\n",
        " |      x.__rsub__(y) <==> y-x\n",
        " |  \n",
        " |  __rtruediv__(...)\n",
        " |      x.__rtruediv__(y) <==> y/x\n",
        " |  \n",
        " |  __rxor__(...)\n",
        " |      x.__rxor__(y) <==> y^x\n",
        " |  \n",
        " |  __str__(...)\n",
        " |      x.__str__() <==> str(x)\n",
        " |  \n",
        " |  __sub__(...)\n",
        " |      x.__sub__(y) <==> x-y\n",
        " |  \n",
        " |  __truediv__(...)\n",
        " |      x.__truediv__(y) <==> x/y\n",
        " |  \n",
        " |  __trunc__(...)\n",
        " |      Truncating an Integral returns itself.\n",
        " |  \n",
        " |  __xor__(...)\n",
        " |      x.__xor__(y) <==> x^y\n",
        " |  \n",
        " |  bit_length(...)\n",
        " |      int.bit_length() -> int\n",
        " |      \n",
        " |      Number of bits necessary to represent self in binary.\n",
        " |      >>> bin(37)\n",
        " |      '0b100101'\n",
        " |      >>> (37).bit_length()\n",
        " |      6\n",
        " |  \n",
        " |  conjugate(...)\n",
        " |      Returns self, the complex conjugate of any int.\n",
        " |  \n",
        " |  ----------------------------------------------------------------------\n",
        " |  Data descriptors defined here:\n",
        " |  \n",
        " |  denominator\n",
        " |      the denominator of a rational number in lowest terms\n",
        " |  \n",
        " |  imag\n",
        " |      the imaginary part of a complex number\n",
        " |  \n",
        " |  numerator\n",
        " |      the numerator of a rational number in lowest terms\n",
        " |  \n",
        " |  real\n",
        " |      the real part of a complex number\n",
        " |  \n",
        " |  ----------------------------------------------------------------------\n",
        " |  Data and other attributes defined here:\n",
        " |  \n",
        " |  __new__ = <built-in method __new__ of type object>\n",
        " |      T.__new__(S, ...) -> a new object with type S, a subtype of T\n",
        "\n"
       ]
      }
     ],
     "prompt_number": 10
    },
    {
     "cell_type": "markdown",
     "metadata": {},
     "source": [
      "### 1.6.3 range() function"
     ]
    },
    {
     "cell_type": "code",
     "collapsed": false,
     "input": [
      "# Create a list starting at zero of the given length...\n",
      "print range(4)\n",
      "print\n",
      "\n",
      "# You may also pass start, stop, and step values (default step is 1)...\n",
      "print range(2, 8, 2)"
     ],
     "language": "python",
     "metadata": {},
     "outputs": [
      {
       "output_type": "stream",
       "stream": "stdout",
       "text": [
        "[0, 1, 2, 3]\n",
        "\n",
        "[2, 4, 6]\n"
       ]
      }
     ],
     "prompt_number": 13
    },
    {
     "cell_type": "markdown",
     "metadata": {},
     "source": [
      "### 1.6.4 dir() function"
     ]
    },
    {
     "cell_type": "code",
     "collapsed": false,
     "input": [
      "# Return the methods and attributes of an object\n",
      "a = range(10)\n",
      "dir(a)"
     ],
     "language": "python",
     "metadata": {},
     "outputs": [
      {
       "metadata": {},
       "output_type": "pyout",
       "prompt_number": 23,
       "text": [
        "['__add__',\n",
        " '__class__',\n",
        " '__contains__',\n",
        " '__delattr__',\n",
        " '__delitem__',\n",
        " '__delslice__',\n",
        " '__doc__',\n",
        " '__eq__',\n",
        " '__format__',\n",
        " '__ge__',\n",
        " '__getattribute__',\n",
        " '__getitem__',\n",
        " '__getslice__',\n",
        " '__gt__',\n",
        " '__hash__',\n",
        " '__iadd__',\n",
        " '__imul__',\n",
        " '__init__',\n",
        " '__iter__',\n",
        " '__le__',\n",
        " '__len__',\n",
        " '__lt__',\n",
        " '__mul__',\n",
        " '__ne__',\n",
        " '__new__',\n",
        " '__reduce__',\n",
        " '__reduce_ex__',\n",
        " '__repr__',\n",
        " '__reversed__',\n",
        " '__rmul__',\n",
        " '__setattr__',\n",
        " '__setitem__',\n",
        " '__setslice__',\n",
        " '__sizeof__',\n",
        " '__str__',\n",
        " '__subclasshook__',\n",
        " 'append',\n",
        " 'count',\n",
        " 'extend',\n",
        " 'index',\n",
        " 'insert',\n",
        " 'pop',\n",
        " 'remove',\n",
        " 'reverse',\n",
        " 'sort']"
       ]
      }
     ],
     "prompt_number": 23
    },
    {
     "cell_type": "markdown",
     "metadata": {},
     "source": [
      "### 1.6.5 len() function"
     ]
    },
    {
     "cell_type": "code",
     "collapsed": false,
     "input": [
      "# Return the number of elements in an expression or variable\n",
      "a = range(11)\n",
      "print len(a)"
     ],
     "language": "python",
     "metadata": {},
     "outputs": [
      {
       "output_type": "stream",
       "stream": "stdout",
       "text": [
        "11\n"
       ]
      }
     ],
     "prompt_number": 29
    },
    {
     "cell_type": "markdown",
     "metadata": {},
     "source": [
      "### 1.6.6 xrange() function\n"
     ]
    },
    {
     "cell_type": "code",
     "collapsed": false,
     "input": [
      "# Repeat one or more statements repeatedly...\n",
      "a = range(11)\n",
      "for x in a: print x\n",
      "print\n",
      "\n",
      "c = ['2005', '2006', '2007']\n",
      "for x in c: print x + '-01'\n",
      "print\n",
      "\n",
      "# Create a list in one line\n",
      "b = [x*2 for x in a]\n",
      "print b"
     ],
     "language": "python",
     "metadata": {},
     "outputs": [
      {
       "output_type": "stream",
       "stream": "stdout",
       "text": [
        "0\n",
        "1\n",
        "2\n",
        "3\n",
        "4\n",
        "5\n",
        "6\n",
        "7\n",
        "8\n",
        "9\n",
        "10\n",
        "\n",
        "2005-01\n",
        "2006-01\n",
        "2007-01\n",
        "\n",
        "[0, 2, 4, 6, 8, 10, 12, 14, 16, 18, 20]\n"
       ]
      }
     ],
     "prompt_number": 33
    },
    {
     "cell_type": "markdown",
     "metadata": {},
     "source": [
      "### 1.6.7 xrange() function"
     ]
    },
    {
     "cell_type": "code",
     "collapsed": false,
     "input": [
      "# The xrange() function is similar to range() except that it does not create a new list \n",
      "# (saving on memory) but instead acts as a generator of numbers starting at zero up to \n",
      "# the stop value you pass it.\n",
      "for x in xrange(3): print x, x**2\n",
      "print\n",
      "\n",
      "# You can also pass start, stop, and step values (default step is 1)...\n",
      "for x in xrange(1,10,2): print 'The square of {} is {}'.format(x, x**2)    "
     ],
     "language": "python",
     "metadata": {},
     "outputs": [
      {
       "output_type": "stream",
       "stream": "stdout",
       "text": [
        "0 0\n",
        "1 1\n",
        "2 4\n",
        "\n",
        "The square of 1 is 1\n",
        "The square of 3 is 9\n",
        "The square of 5 is 25\n",
        "The square of 7 is 49\n",
        "The square of 9 is 81\n"
       ]
      }
     ],
     "prompt_number": 39
    },
    {
     "cell_type": "markdown",
     "metadata": {},
     "source": [
      "### 1.6.8 for statement"
     ]
    },
    {
     "cell_type": "code",
     "collapsed": false,
     "input": [
      "# We can do more that one statement in a for loop...\n",
      "for x in xrange(1, 7):\n",
      "    a = x * 3\n",
      "    print a"
     ],
     "language": "python",
     "metadata": {},
     "outputs": [
      {
       "output_type": "stream",
       "stream": "stdout",
       "text": [
        "3\n",
        "6\n",
        "9\n",
        "12\n",
        "15\n",
        "18\n"
       ]
      }
     ],
     "prompt_number": 41
    },
    {
     "cell_type": "markdown",
     "metadata": {},
     "source": [
      "Notice that we use range() when using the actual list created, but xrange() when we just need the iterator."
     ]
    },
    {
     "cell_type": "code",
     "collapsed": false,
     "input": [],
     "language": "python",
     "metadata": {},
     "outputs": []
    },
    {
     "cell_type": "code",
     "collapsed": false,
     "input": [],
     "language": "python",
     "metadata": {},
     "outputs": []
    },
    {
     "cell_type": "code",
     "collapsed": false,
     "input": [],
     "language": "python",
     "metadata": {},
     "outputs": []
    },
    {
     "cell_type": "code",
     "collapsed": false,
     "input": [],
     "language": "python",
     "metadata": {},
     "outputs": []
    },
    {
     "cell_type": "code",
     "collapsed": false,
     "input": [],
     "language": "python",
     "metadata": {},
     "outputs": []
    },
    {
     "cell_type": "code",
     "collapsed": false,
     "input": [],
     "language": "python",
     "metadata": {},
     "outputs": []
    },
    {
     "cell_type": "code",
     "collapsed": false,
     "input": [],
     "language": "python",
     "metadata": {},
     "outputs": []
    },
    {
     "cell_type": "code",
     "collapsed": false,
     "input": [],
     "language": "python",
     "metadata": {},
     "outputs": []
    },
    {
     "cell_type": "code",
     "collapsed": false,
     "input": [],
     "language": "python",
     "metadata": {},
     "outputs": []
    },
    {
     "cell_type": "code",
     "collapsed": false,
     "input": [],
     "language": "python",
     "metadata": {},
     "outputs": []
    },
    {
     "cell_type": "markdown",
     "metadata": {},
     "source": [
      "# Notes:\n",
      "\n",
      "Below is a list of suggested revisions to the Ver. 3.0 Python Training Document for Fall 2013\n",
      "\n",
      "--------"
     ]
    },
    {
     "cell_type": "markdown",
     "metadata": {},
     "source": [
      "1. Pg. 3: iPython log file created using %logstart is called ipython_log.py (using iPython 1.0.0)\n",
      "2. Pg. 4: For both tuples and lists, we need an example of mutable/immutable to illustrate the concept (see Notebook)\n",
      "3. Pg. 4: Included comments and clarifications for tuples and lists (see Notebook)\n",
      "4. Pg. 6: For this section, we ***really*** need to stress that it is not a good idea to modify these in any way.\n",
      "5. Pg. 9-10: Unclear re: the structure of \"for\" statement; this section is re: xrange. Do we need a seperate section? propose a seperate section 1.6.8, which could tie in to the following try ... except statement"
     ]
    },
    {
     "cell_type": "code",
     "collapsed": false,
     "input": [],
     "language": "python",
     "metadata": {},
     "outputs": [],
     "prompt_number": 9
    }
   ],
   "metadata": {}
  }
 ]
}